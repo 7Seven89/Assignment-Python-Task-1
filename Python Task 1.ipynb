{
 "cells": [
  {
   "cell_type": "markdown",
   "id": "d59268a4-72a2-4c72-ad27-6a56c6cc752a",
   "metadata": {},
   "source": [
    "**Q1. Create a function which will take a list as an argument and return the product of all the numbers\n",
    "after creating a flat list.\n",
    "Use the below-given list as an argument for your function.**\n",
    "\n",
    "**list1 = [1,2,3,4, [44,55,66, True], False, (34,56,78,89,34), {1,2,3,3,2,1}, {1:34, \"key2\": [55, 67, 78, 89], 4: (45,\n",
    "22, 61, 34)}, [56, 'data science'], 'Machine Learning']**"
   ]
  },
  {
   "cell_type": "code",
   "execution_count": 64,
   "id": "386a3259-e02a-4aba-bbb2-9931a0f36420",
   "metadata": {},
   "outputs": [],
   "source": [
    "# A1. \n",
    "\n",
    "list1 = [1,2,3,4, [44,55,66, True], False, (34,56,78,89,34), {1,2,3,3,2,1}, {1:34, \"key2\": [55, 67, 78, 89], 4: (45, 22, 61, 34)}, [56, 'data science'], 'Machine Learning']\n",
    "\n",
    "\n",
    "def product_flat_list(x):\n",
    "    \n",
    "    new_list = []\n",
    "    product = 1\n",
    "    \n",
    "    for i in list1:\n",
    "        if type(i) in [int, float]:\n",
    "            new_list.append(i)\n",
    "            \n",
    "        elif type(i) in [list, tuple, set]:\n",
    "            new_list.extend(i)\n",
    "    \n",
    "        elif type(i) == dict:\n",
    "            for key, value in i.items():\n",
    "                if type(value) in [float, int] and type(key) in [float, int]:\n",
    "                    new_list.append(value)\n",
    "                elif type(value) in [list, tuple, set] and type(key) in [list, tuple, set]:\n",
    "                    new_list.extend(value)\n",
    "    \n",
    "    for i in new_list:\n",
    "        if type(i) in [int, float]:\n",
    "            product *= i\n",
    "            \n",
    "        \n",
    "    return(f\"The product of all the numbers is {product}\")"
   ]
  },
  {
   "cell_type": "code",
   "execution_count": 65,
   "id": "b0f2c69a-2fd2-464b-90e1-13feccc59414",
   "metadata": {},
   "outputs": [
    {
     "data": {
      "text/plain": [
       "'The product of all the numbers is 19679733278309744640'"
      ]
     },
     "execution_count": 65,
     "metadata": {},
     "output_type": "execute_result"
    }
   ],
   "source": [
    "product_flat_list(list1)"
   ]
  },
  {
   "cell_type": "markdown",
   "id": "9c87ea42-ddaf-4204-92ea-6de87b15d9e5",
   "metadata": {},
   "source": [
    "**Q2. Write a python program for encrypting a message sent to you by your friend. The logic of encryption\n",
    "should be such that, for a the output should be z. For b, the output should be y. For c, the output should\n",
    "be x respectively. Also, the whitespace should be replaced with a dollar sign. Keep the punctuation\n",
    "marks unchanged.**\n",
    "\n",
    "**Input Sentence: I want to become a Data Scientist.**\n",
    "\n",
    "**Encrypt the above input sentence using the program you just created.**"
   ]
  },
  {
   "cell_type": "code",
   "execution_count": 77,
   "id": "6ca4f4ba-3fab-4372-9be1-5d7e669104f1",
   "metadata": {},
   "outputs": [
    {
     "name": "stdout",
     "output_type": "stream",
     "text": [
      "i$wznt$to$yexome$z$dztz$sxientist\n"
     ]
    }
   ],
   "source": [
    "alpha_encrypt = \"I want to become a Data Scientist\"\n",
    "encrypted_text = \"\"\n",
    "\n",
    "for i in alpha_encrypt.lower():\n",
    "    if i == \" \":\n",
    "        encrypted_text += \"$\"\n",
    "\n",
    "    elif i == \"a\":\n",
    "        encrypted_text += \"z\"\n",
    "\n",
    "    elif i == \"b\":\n",
    "        encrypted_text += \"y\"\n",
    "\n",
    "    elif i == \"c\":\n",
    "        encrypted_text += \"x\"\n",
    "\n",
    "    else:\n",
    "        encrypted_text += i\n",
    "\n",
    "print(encrypted_text)"
   ]
  },
  {
   "cell_type": "code",
   "execution_count": null,
   "id": "8447dfac-730d-4bed-86db-b33e6a102c84",
   "metadata": {},
   "outputs": [],
   "source": []
  }
 ],
 "metadata": {
  "kernelspec": {
   "display_name": "Python 3 (ipykernel)",
   "language": "python",
   "name": "python3"
  },
  "language_info": {
   "codemirror_mode": {
    "name": "ipython",
    "version": 3
   },
   "file_extension": ".py",
   "mimetype": "text/x-python",
   "name": "python",
   "nbconvert_exporter": "python",
   "pygments_lexer": "ipython3",
   "version": "3.12.2"
  }
 },
 "nbformat": 4,
 "nbformat_minor": 5
}
